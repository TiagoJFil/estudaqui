{
 "cells": [
  {
   "cell_type": "markdown",
   "id": "fa503a5d",
   "metadata": {},
   "source": [
    "# Extracting Question Snippets from PDF Exams\n",
    "\n",
    "This notebook demonstrates how to extract question snippets from a PDF exam using PyMuPDF and Pillow. Each question is detected by its number (e.g., 1., 2., 3., etc.), and the corresponding snippet is saved as an image."
   ]
  },
  {
   "cell_type": "markdown",
   "id": "3097ce16",
   "metadata": {},
   "source": [
    "## 1. Install Required Libraries\n",
    "\n",
    "Install PyMuPDF and Pillow if you haven't already."
   ]
  },
  {
   "cell_type": "code",
   "execution_count": 12,
   "id": "21f842f3",
   "metadata": {},
   "outputs": [
    {
     "name": "stdout",
     "output_type": "stream",
     "text": [
      "Requirement already satisfied: pymupdf in c:\\users\\teo_p\\appdata\\local\\programs\\python\\python311\\lib\\site-packages (1.26.0)\n",
      "Requirement already satisfied: pillow in c:\\users\\teo_p\\appdata\\local\\programs\\python\\python311\\lib\\site-packages (10.0.0)\n"
     ]
    },
    {
     "name": "stderr",
     "output_type": "stream",
     "text": [
      "\n",
      "[notice] A new release of pip is available: 24.0 -> 25.1.1\n",
      "[notice] To update, run: python.exe -m pip install --upgrade pip\n"
     ]
    }
   ],
   "source": [
    "!pip install pymupdf pillow"
   ]
  },
  {
   "cell_type": "markdown",
   "id": "d681afd4",
   "metadata": {},
   "source": [
    "## 2. Define Extraction Script\n",
    "\n",
    "Below is the script to extract question snippets from a PDF file."
   ]
  },
  {
   "cell_type": "code",
   "execution_count": 8,
   "id": "fce75839",
   "metadata": {},
   "outputs": [],
   "source": [
    "import fitz  # PyMuPDF\n",
    "import re\n",
    "import os\n",
    "from PIL import Image\n",
    "import numpy as np\n",
    "\n",
    "# Question and subquestion detection\n",
    "#QUESTION_REGEX = re.compile(r'^\\s*(\\*?\\s*)(\\d+)\\.(?:\\s|$)')\n",
    "#SUBQUESTION_REGEX = re.compile(r'^\\s*((\\d+\\.){2,}|[a-zA-Z]\\)|\\([a-zA-Z]\\)|-\\s+|\\*\\s+|\\d+\\))')\n",
    "QUESTION_REGEX = re.compile(r\"^[0-9]+\\\\.$\")\n",
    "SUBQUESTION_REGEX = re.compile(r\"^[0-9]+\\\\.[0-9]+$\")\n",
    "\n",
    "def is_candidate_anchor(text, x0, block_width, font_size, page_width, min_font_size=5):\n",
    "    if x0 > page_width * 0.10:  # First 10% of page width\n",
    "        return False\n",
    "    if block_width < 100:\n",
    "        return False\n",
    "    if font_size < min_font_size:\n",
    "        return False\n",
    "\n",
    "    match = QUESTION_REGEX.match(text)\n",
    "    if not match:\n",
    "        return False\n",
    "\n",
    "    remaining = text[match.end():].strip()\n",
    "    if len(remaining) == 0:\n",
    "        return False\n",
    "\n",
    "    return True\n",
    "\n",
    "def is_in_table(block, all_blocks, x_tol=5, y_tol=3, min_neighbors=3):\n",
    "    x0, y0, x1, y1, *_ = block\n",
    "\n",
    "    # Find blocks that align vertically within y_tol (i.e. same row)\n",
    "    row_neighbors = [b for b in all_blocks if abs(b[1] - y0) <= y_tol]\n",
    "\n",
    "    # Find blocks that align horizontally within x_tol (i.e. same column)\n",
    "    col_neighbors = [b for b in all_blocks if abs(b[0] - x0) <= x_tol]\n",
    "\n",
    "    # If many neighbors in same row and same column => table cell likely\n",
    "    if len(row_neighbors) >= min_neighbors and len(col_neighbors) >= min_neighbors:\n",
    "        return True\n",
    "\n",
    "    return False\n",
    "\n",
    "\n",
    "def looks_like_question_or_subquestion(block, all_blocks, page_width):\n",
    "    x0, y0, x1, y1, text, *_ = block\n",
    "    text = text.strip()\n",
    "\n",
    "    print(text)\n",
    "    # Must start exactly with question/subquestion pattern\n",
    "    if not (QUESTION_REGEX.match(text) or SUBQUESTION_REGEX.match(text)):\n",
    "        return False\n",
    "\n",
    "    # Exclude if block looks like part of a table cell\n",
    "    if is_in_table(block, all_blocks):\n",
    "        return False\n",
    "\n",
    "    # Must be near left margin\n",
    "    if x0 > page_width * 0.10:\n",
    "        return False\n",
    "\n",
    "    # Optionally filter out blocks too far down the page (footer)\n",
    "    if y0 > 0.6 * 842:  # assuming 842 pts page height (A4)\n",
    "        return False\n",
    "\n",
    "    return True\n",
    "\n",
    "\n",
    "def is_strictly_blank(pix, white_thresh=250):\n",
    "    img = Image.frombytes(\"RGB\", [pix.width, pix.height], pix.samples)\n",
    "    gray = img.convert(\"L\")\n",
    "    arr = np.array(gray)\n",
    "    return np.all(arr > white_thresh)\n",
    "\n",
    "def clip_contains_question(page, clip_rect):\n",
    "    blocks = page.get_text(\"blocks\")\n",
    "    for block in blocks:\n",
    "        x0, y0, x1, y1, *_ = block\n",
    "        if clip_rect.y0 <= y0 <= clip_rect.y1:\n",
    "            if looks_like_question_or_subquestion(block, blocks, page.rect.width):\n",
    "                return True\n",
    "    return False\n",
    "\n",
    "def extract_question_snippets(pdf_path, output_dir='output_questions'):\n",
    "    os.makedirs(output_dir, exist_ok=True)\n",
    "    doc = fitz.open(pdf_path)\n",
    "\n",
    "    anchors = []\n",
    "    question_counts = {}\n",
    "\n",
    "    # Step 1: Collect anchors\n",
    "    for page_num, page in enumerate(doc):\n",
    "        blocks = page.get_text(\"blocks\")\n",
    "        page_dict = page.get_text(\"dict\")\n",
    "        block_font_sizes = {}\n",
    "        for bidx, b in enumerate(page_dict[\"blocks\"]):\n",
    "            max_font_size = 0\n",
    "            for line in b.get(\"lines\", []):\n",
    "                for span in line.get(\"spans\", []):\n",
    "                    fs = span.get(\"size\", 0)\n",
    "                    max_font_size = max(max_font_size, fs)\n",
    "            block_font_sizes[bidx] = max_font_size\n",
    "\n",
    "        for bidx, block in enumerate(blocks):\n",
    "            x0, y0, x1, y1, text, *rest = block\n",
    "            text = text.strip()\n",
    "            block_width = x1 - x0\n",
    "            font_size = block_font_sizes.get(bidx, 0)\n",
    "\n",
    "            if is_candidate_anchor(text, x0, block_width, font_size, page.rect.width):\n",
    "                match = QUESTION_REGEX.match(text)\n",
    "                qnum = int(match.group(2))\n",
    "                anchors.append((qnum, page_num, y0))\n",
    "\n",
    "    anchors.sort(key=lambda x: (x[1], x[2]))\n",
    "\n",
    "    print(\"\\nAnchors found (qnum, page_num, y0):\")\n",
    "    for a in anchors:\n",
    "        print(a)\n",
    "\n",
    "    # Step 2: Crop per anchor\n",
    "    for i in range(len(anchors)):\n",
    "        qnum, start_page, start_y = anchors[i]\n",
    "        next_anchor = anchors[i + 1] if i + 1 < len(anchors) else None\n",
    "\n",
    "        end_page = next_anchor[1] if next_anchor else len(doc) - 1\n",
    "        end_y = next_anchor[2] if next_anchor else doc[end_page].rect.height\n",
    "\n",
    "        part = 1\n",
    "        page_num = start_page\n",
    "        while page_num <= end_page:\n",
    "            page = doc[page_num]\n",
    "\n",
    "            if page_num == start_page:\n",
    "                top = start_y\n",
    "                bottom = page.rect.height if page_num != end_page else end_y\n",
    "            elif page_num == end_page:\n",
    "                top = 0\n",
    "                bottom = end_y\n",
    "            else:\n",
    "                top = 0\n",
    "                bottom = page.rect.height\n",
    "\n",
    "            clip = fitz.Rect(0, top, page.rect.width, bottom)\n",
    "            pix = page.get_pixmap(dpi=150, clip=clip)\n",
    "\n",
    "            if is_strictly_blank(pix):\n",
    "\n",
    "                print(f\"Skipped blank crop: Q{qnum} page {page_num}\")\n",
    "                page_num += 1\n",
    "                continue\n",
    "\n",
    "            if not clip_contains_question(page, clip):\n",
    "                print(f\"Skipped clip with no valid question: Q{qnum} page {page_num}\")\n",
    "                page_num += 1\n",
    "                continue\n",
    "\n",
    "            question_counts[qnum] = question_counts.get(qnum, 0) + 1\n",
    "            suffix = f\"part{question_counts[qnum]}\"\n",
    "            output_path = os.path.join(output_dir, f\"question_{qnum}_{suffix}.png\")\n",
    "\n",
    "            pix.save(output_path)\n",
    "            print(f\"Saved: {output_path} (contains question/subquestion)\")\n",
    "\n",
    "            part += 1\n",
    "            page_num += 1\n"
   ]
  },
  {
   "cell_type": "code",
   "execution_count": null,
   "id": "ab9f0874",
   "metadata": {},
   "outputs": [],
   "source": []
  },
  {
   "cell_type": "markdown",
   "id": "c513ce6c",
   "metadata": {},
   "source": [
    "## 3. Run Extraction\n",
    "\n",
    "Specify your PDF file path and output directory, then run the extraction."
   ]
  },
  {
   "cell_type": "code",
   "execution_count": 9,
   "id": "50611766",
   "metadata": {},
   "outputs": [
    {
     "name": "stdout",
     "output_type": "stream",
     "text": [
      "\n",
      "Anchors found (qnum, page_num, y0):\n"
     ]
    }
   ],
   "source": [
    "fq_pdf_path = \"Fisica-Quimica-A (1).pdf\"\n",
    "pc_pdf_path = \"PC_2021v_ee.pdf\"\n",
    "math_pdf_path = \"Matematica.pdf\"\n",
    "output_dir = \"output_questions\"\n",
    "os.makedirs(output_dir, exist_ok=True)\n",
    "extract_question_snippets(fq_pdf_path)"
   ]
  },
  {
   "cell_type": "markdown",
   "id": "7077203a",
   "metadata": {},
   "source": [
    "## 4. Review Extracted Images\n",
    "\n",
    "The extracted question snippets will be saved as PNG files in the specified output directory."
   ]
  },
  {
   "cell_type": "markdown",
   "id": "6f4a5895",
   "metadata": {},
   "source": []
  }
 ],
 "metadata": {
  "kernelspec": {
   "display_name": "Python 3",
   "language": "python",
   "name": "python3"
  },
  "language_info": {
   "codemirror_mode": {
    "name": "ipython",
    "version": 3
   },
   "file_extension": ".py",
   "mimetype": "text/x-python",
   "name": "python",
   "nbconvert_exporter": "python",
   "pygments_lexer": "ipython3",
   "version": "3.11.5"
  }
 },
 "nbformat": 4,
 "nbformat_minor": 5
}
